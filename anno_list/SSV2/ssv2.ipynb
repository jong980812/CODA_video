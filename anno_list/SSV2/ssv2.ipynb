{
 "cells": [
  {
   "cell_type": "code",
   "execution_count": 2,
   "metadata": {},
   "outputs": [],
   "source": [
    "import pandas as pd\n",
    "\n",
    "# 원본 CSV 파일 로드\n",
    "df = pd.read_csv('/data/jong980812/project/cil/CODA-Prompt/anno_list/SSV2/train.csv', names=['video_file', 'class_label'],delimiter=' ')\n",
    "\n",
    "# 클래스 레이블 별로 데이터셋 축소\n",
    "reduced_df = df.groupby('class_label').apply(lambda x: x.sample(frac=0.3)).reset_index(drop=True)\n",
    "\n",
    "# 축소된 데이터셋 저장\n",
    "reduced_df.to_csv('reduced_dataset_train.csv', index=False)\n"
   ]
  },
  {
   "cell_type": "code",
   "execution_count": null,
   "metadata": {},
   "outputs": [],
   "source": []
  }
 ],
 "metadata": {
  "kernelspec": {
   "display_name": "coda",
   "language": "python",
   "name": "python3"
  },
  "language_info": {
   "codemirror_mode": {
    "name": "ipython",
    "version": 3
   },
   "file_extension": ".py",
   "mimetype": "text/x-python",
   "name": "python",
   "nbconvert_exporter": "python",
   "pygments_lexer": "ipython3",
   "version": "3.8.0"
  }
 },
 "nbformat": 4,
 "nbformat_minor": 2
}
